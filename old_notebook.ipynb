{
 "cells": [
  {
   "cell_type": "code",
   "execution_count": null,
   "metadata": {},
   "outputs": [],
   "source": [
    "import os\n",
    "os.environ[\"CUDA_DEVICE_ORDER\"] = \"PCI_BUS_ID\"\n",
    "os.environ[\"CUDA_VISIBLE_DEVICES\"] = \"1,2\""
   ]
  },
  {
   "cell_type": "code",
   "execution_count": null,
   "metadata": {},
   "outputs": [],
   "source": [
    "import time\n",
    "import numpy as np\n",
    "import tensorflow as tf\n",
    "from tensorflow.keras import layers\n",
    "\n",
    "tf.config.threading.set_inter_op_parallelism_threads(16)\n",
    "tf.config.experimental.set_synchronous_execution(False)\n",
    "tf.config.optimizer.set_jit(True)\n",
    "tf.config.optimizer.set_experimental_options({\"auto_mixed_precision\": True})\n",
    "BATCH_SIZE = 320"
   ]
  },
  {
   "cell_type": "code",
   "execution_count": null,
   "metadata": {},
   "outputs": [],
   "source": [
    "class TimeHistory(tf.keras.callbacks.Callback):\n",
    "    def on_train_begin(self, logs={}):\n",
    "        self.times = []\n",
    "    def on_epoch_begin(self, epoch, logs={}):\n",
    "        self.epoch_time_start = time.time()\n",
    "    def on_epoch_end(self, epoch, logs={}):\n",
    "        self.times.append(time.time() - self.epoch_time_start)\n",
    "        \n",
    "def normalize(ndarray):\n",
    "    ndarray = ndarray.astype(\"float32\")\n",
    "    ndarray = (ndarray/127.5) - 1\n",
    "    return ndarray\n",
    "\n",
    "(x_train, y_train), (x_test, y_test) = tf.keras.datasets.cifar10.load_data()\n",
    "num_classes = np.max(y_train) + 1\n",
    "y_train = tf.keras.utils.to_categorical(y_train, num_classes)\n",
    "y_test = tf.keras.utils.to_categorical(y_test, num_classes)\n",
    "x_train = normalize(x_train)\n",
    "x_test = normalize(x_test)\n",
    "num_train = x_train.shape[0]\n",
    "\n",
    "train_dataset = tf.data.Dataset.from_tensor_slices((x_train, y_train))\n",
    "train_dataset = train_dataset.repeat()\n",
    "train_dataset = train_dataset.batch(BATCH_SIZE, drop_remainder=True)\n",
    "train_dataset = train_dataset.prefetch(128)\n",
    "_ = train_dataset.take(8)\n",
    "\n",
    "steps_per_epoch = int(num_train / BATCH_SIZE / 2) + 1"
   ]
  },
  {
   "cell_type": "code",
   "execution_count": null,
   "metadata": {},
   "outputs": [],
   "source": [
    "def cnn_block():\n",
    "    cnn_block = tf.keras.models.Sequential([\n",
    "        layers.Conv2D(128, (3,3), padding=\"same\", activation=\"relu\", kernel_initializer=\"he_uniform\"),\n",
    "        layers.Conv2D(512, (3,3), padding=\"same\", activation=\"relu\", kernel_initializer=\"he_uniform\"),\n",
    "        layers.Conv2D(512, (3,3), padding=\"same\", activation=\"relu\", kernel_initializer=\"he_uniform\"),\n",
    "        layers.Conv2D(128, (3,3), padding=\"same\", activation=\"relu\", kernel_initializer=\"he_uniform\"),\n",
    "        layers.BatchNormalization(fused=True),\n",
    "    ])\n",
    "    return cnn_block\n",
    "\n",
    "class PipelineCNN(tf.keras.Model):\n",
    "    def __init__(self, splits=1):\n",
    "        super(PipelineCNN, self).__init__()\n",
    "        self.splits = splits\n",
    "        with tf.device('/GPU:0'):\n",
    "            self.conv_0 = layers.Conv2D(32, (3,3), padding=\"same\", activation=\"relu\", kernel_initializer=\"he_uniform\")\n",
    "            self.maxpool_1 = layers.MaxPooling2D((2,2))\n",
    "            self.block_1 = ret_cnn_block()\n",
    "        with tf.device('/GPU:1'):\n",
    "            self.block_2 = ret_cnn_block()\n",
    "            self.block_3 = ret_cnn_block()\n",
    "            self.block_4 = ret_cnn_block()\n",
    "            self.maxpool_2 = layers.MaxPooling2D((2,2))\n",
    "            self.flat = layers.Flatten()\n",
    "            self.classifier = layers.Dense(num_classes, activation=\"softmax\")\n",
    "            \n",
    "    def forward_1(self, split_batch):\n",
    "        with tf.device('/GPU:0'):\n",
    "            x = self.conv_0(split_batch)\n",
    "            x = self.block_1(x)\n",
    "            ret = self.maxpool_1(x)\n",
    "            return ret\n",
    "    \n",
    "    def forward_2(self, split_batch):\n",
    "        with tf.device('/GPU:1'):\n",
    "            x = self.block_2(split_batch)\n",
    "            x = self.block_3(x)\n",
    "            x = self.block_4(x)\n",
    "            x = self.maxpool_2(x)\n",
    "            x = self.flat(x)\n",
    "            ret = self.classifier(x)\n",
    "            return ret\n",
    "\n",
    "    def call(self, inputs):\n",
    "        with tf.device('/GPU:0'):\n",
    "            splits = tf.split(inputs, self.splits, axis=0, num=self.splits, name=\"split_batch\")\n",
    "        pipe_1 = self.forward_1(splits[0])\n",
    "        pipe_2 = self.forward_1(splits[1])\n",
    "        pipe_1 = self.forward_2(pipe_1)\n",
    "        pipe_2 = self.forward_2(pipe_2)\n",
    "        with tf.device('/GPU:1'):\n",
    "            ret = tf.concat([pipe_1, pipe_2], 0, name=\"concat_batch\")\n",
    "            return ret"
   ]
  },
  {
   "cell_type": "code",
   "execution_count": null,
   "metadata": {},
   "outputs": [],
   "source": [
    "model = PipelineCNN(splits=2)\n",
    "opt = tf.keras.optimizers.Adam()\n",
    "opt = tf.keras.mixed_precision.experimental.LossScaleOptimizer(opt, \"dynamic\")\n",
    "model.compile(loss=\"categorical_crossentropy\",\n",
    "              optimizer=opt)\n",
    "\n",
    "time_history = TimeHistory()\n",
    "\n",
    "train_log = model.fit(train_dataset, steps_per_epoch=steps_per_epoch,\n",
    "                      epochs=2, verbose=1,\n",
    "                      callbacks=[time_history])\n",
    "\n",
    "peak_fps = int(steps_per_epoch*BATCH_SIZE/min(time_history.times))\n",
    "\n",
    "print(\"* Params:\", model.count_params())\n",
    "print(\"* Peak FPS:\", peak_fps)"
   ]
  },
  {
   "cell_type": "markdown",
   "metadata": {},
   "source": [
    "Peak FPS: 1975"
   ]
  },
  {
   "cell_type": "code",
   "execution_count": null,
   "metadata": {},
   "outputs": [],
   "source": []
  }
 ],
 "metadata": {
  "kernelspec": {
   "display_name": "Python 3",
   "language": "python",
   "name": "python3"
  },
  "language_info": {
   "codemirror_mode": {
    "name": "ipython",
    "version": 3
   },
   "file_extension": ".py",
   "mimetype": "text/x-python",
   "name": "python",
   "nbconvert_exporter": "python",
   "pygments_lexer": "ipython3",
   "version": "3.6.7"
  }
 },
 "nbformat": 4,
 "nbformat_minor": 4
}
